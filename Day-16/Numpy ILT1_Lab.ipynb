{
 "cells": [
  {
   "cell_type": "code",
   "execution_count": 2,
   "id": "b206537e-109a-456e-9bb6-21d87e2e1d79",
   "metadata": {},
   "outputs": [
    {
     "name": "stdout",
     "output_type": "stream",
     "text": [
      "Numpy_Array\n",
      " [1 2 3 4 5]\n"
     ]
    }
   ],
   "source": [
    "# Convert the below list into numpy array then display the array\n",
    "\n",
    "import numpy as np\n",
    "my_list = [1,2,3,4,5]\n",
    "\n",
    "numpy_array = np.array(my_list)\n",
    "print(\"Numpy_Array\\n\",numpy_array)"
   ]
  },
  {
   "cell_type": "code",
   "execution_count": 4,
   "id": "daf46178-2418-4eef-b9cd-c205c69afa8d",
   "metadata": {},
   "outputs": [
    {
     "name": "stdout",
     "output_type": "stream",
     "text": [
      "first element is: 1\n",
      "last element is: 5\n",
      "\n",
      "[ 2  4  6  8 10]\n"
     ]
    }
   ],
   "source": [
    "#convert the below list into a numpy array then display the first and last index and then multiply each element by 2 and display the result\n",
    "import numpy as np\n",
    "my_list = [1, 2, 3, 4, 5]\n",
    "numpy_array = np.array(my_list)\n",
    "print(\"first element is:\",numpy_array[0])\n",
    "print(\"last element is:\",numpy_array[4])\n",
    "print(\"\")\n",
    "print(numpy_array*2)"
   ]
  },
  {
   "cell_type": "code",
   "execution_count": 13,
   "id": "fe76a22b-733d-4a88-aef8-cd92df99061c",
   "metadata": {},
   "outputs": [
    {
     "name": "stdout",
     "output_type": "stream",
     "text": [
      "An array of 10 zeros\n",
      "[0. 0. 0. 0. 0. 0. 0. 0. 0. 0.]\n",
      "\n",
      "An array of 10 ones\n",
      "[1. 1. 1. 1. 1. 1. 1. 1. 1. 1.]\n",
      "\n",
      "An array of 10 fives\n",
      "[5. 5. 5. 5. 5. 5. 5. 5. 5. 5.]\n"
     ]
    }
   ],
   "source": [
    "#write a numpy program to create an array 10 zeroes, 10 ones and 10 fives\n",
    "zero_arr = np.zeros(10)\n",
    "print(\"An array of 10 zeros\")\n",
    "print(zero_arr)\n",
    "print(\"\")\n",
    "ones_arr = np.ones(10)\n",
    "print(\"An array of 10 ones\")\n",
    "print(ones_arr)\n",
    "print(\"\")\n",
    "fives_arr = np.ones(10)*5\n",
    "print(\"An array of 10 fives\")\n",
    "print(fives_arr)"
   ]
  },
  {
   "cell_type": "code",
   "execution_count": 15,
   "id": "a7977c0c-7409-4a75-b088-9d49e6e5c1d8",
   "metadata": {},
   "outputs": [
    {
     "name": "stdout",
     "output_type": "stream",
     "text": [
      "array value range from 2 to 10 is:\n",
      "[9 7 6 9 6 4 4 5 8]\n",
      " \n",
      "3*3 matrix is:\n",
      "[[9 7 6]\n",
      " [9 6 4]\n",
      " [4 5 8]]\n",
      " \n"
     ]
    }
   ],
   "source": [
    "# write a numpy program to create a 3*3 martrix with values ranging from 2 to 10\n",
    "import numpy as np\n",
    "arr = np.random.randint(2,10,9)\n",
    "print(\"array value range from 2 to 10 is:\")\n",
    "print(arr)\n",
    "print(\" \")\n",
    "arr = arr.reshape(3,3)\n",
    "print(\"3*3 matrix is:\")\n",
    "print(arr)\n",
    "print(\" \")"
   ]
  },
  {
   "cell_type": "code",
   "execution_count": null,
   "id": "d8470cda-5b83-48b6-9f40-3aa2f2e6a422",
   "metadata": {},
   "outputs": [],
   "source": []
  }
 ],
 "metadata": {
  "kernelspec": {
   "display_name": "Python 3 (ipykernel)",
   "language": "python",
   "name": "python3"
  },
  "language_info": {
   "codemirror_mode": {
    "name": "ipython",
    "version": 3
   },
   "file_extension": ".py",
   "mimetype": "text/x-python",
   "name": "python",
   "nbconvert_exporter": "python",
   "pygments_lexer": "ipython3",
   "version": "3.11.3"
  }
 },
 "nbformat": 4,
 "nbformat_minor": 5
}
