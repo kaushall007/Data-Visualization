{
 "cells": [
  {
   "cell_type": "code",
   "execution_count": 16,
   "id": "4f41e467-91eb-4976-ba89-d1abe5051110",
   "metadata": {},
   "outputs": [
    {
     "name": "stdout",
     "output_type": "stream",
     "text": [
      "Array A\n",
      " 40\n",
      "--------------------------\n",
      "Array B\n",
      " [1 2 3 4 5]\n",
      "--------------------------\n",
      "Array C\n",
      " [[12 22 13 23]\n",
      " [33 21 11 22]]\n",
      "--------------------------\n",
      "Array D\n",
      " [[[16 55 23 43]\n",
      "  [56 66 33 90]\n",
      "  [76  4 33 15]]]\n",
      "--------------------------\n",
      "A array dimension 0\n",
      "B array dimension 1\n",
      "C array dimension 2\n",
      "D array dimension 3\n"
     ]
    }
   ],
   "source": [
    "import numpy as np\n",
    "\n",
    "a = np.array(40)\n",
    "b = np.array([1,2,3,4,5])\n",
    "c = np.array([[12,22,13,23],[33,21,11,22]])\n",
    "d = np.array([[[16,55,23,43],[56,66,33,90],[76,4,33,15]]])\n",
    "\n",
    "print(\"Array A\\n\",a)\n",
    "print(\"--------------------------\")\n",
    "print(\"Array B\\n\",b)\n",
    "print(\"--------------------------\")\n",
    "print(\"Array C\\n\",c)\n",
    "print(\"--------------------------\")\n",
    "print(\"Array D\\n\",d)\n",
    "print(\"--------------------------\")\n",
    "print(\"A array dimension\",a.ndim)\n",
    "print(\"B array dimension\",b.ndim)\n",
    "print(\"C array dimension\",c.ndim)\n",
    "print(\"D array dimension\",d.ndim)"
   ]
  },
  {
   "cell_type": "code",
   "execution_count": 22,
   "id": "52cd5007-4b80-4ce6-a3de-46af20cbef15",
   "metadata": {},
   "outputs": [
    {
     "name": "stdout",
     "output_type": "stream",
     "text": [
      "[  2   3 200   5]\n",
      "[  1   2   3 200   5]\n"
     ]
    }
   ],
   "source": [
    "b = np.array([1,2,3,4,5])\n",
    "b1 = b[1:5]\n",
    "b1[2]=200\n",
    "print(b1)\n",
    "print(b)"
   ]
  },
  {
   "cell_type": "code",
   "execution_count": 24,
   "id": "92082a71-08b7-4c50-805b-b4189b46edd3",
   "metadata": {},
   "outputs": [
    {
     "name": "stdout",
     "output_type": "stream",
     "text": [
      "original array without change [1 2 3 4 5]\n",
      "original array with change [42  2  3  4  5]\n",
      "Copy of Original Array [1 2 3 4 5]\n"
     ]
    }
   ],
   "source": [
    "arr = np.array([1,2,3,4,5])\n",
    "arr2 = arr.copy()\n",
    "print(\"original array without change\",arr)\n",
    "arr[0] = 42\n",
    "print(\"original array with change\",arr)\n",
    "print(\"Copy of Original Array\",arr2)"
   ]
  },
  {
   "cell_type": "code",
   "execution_count": 25,
   "id": "412f087a-3c73-4d6f-a800-8f165351748f",
   "metadata": {},
   "outputs": [
    {
     "name": "stdout",
     "output_type": "stream",
     "text": [
      "[43  2  3  4  5]\n",
      "[43  2  3  4  5]\n"
     ]
    }
   ],
   "source": [
    "arr = np.array([1,2,3,4,5])\n",
    "x = arr.view()\n",
    "arr[0]=43\n",
    "print(arr)\n",
    "print(x)"
   ]
  },
  {
   "cell_type": "code",
   "execution_count": 35,
   "id": "6e41b624-8f26-47bb-9b08-36a5af69bd38",
   "metadata": {},
   "outputs": [
    {
     "name": "stdout",
     "output_type": "stream",
     "text": [
      "[[1. 1. 1. 1.]\n",
      " [1. 1. 1. 1.]\n",
      " [1. 1. 1. 1.]]\n"
     ]
    }
   ],
   "source": [
    "arr = np.ones([3,4])\n",
    "print(arr)"
   ]
  },
  {
   "cell_type": "code",
   "execution_count": 32,
   "id": "271a469d-9de8-4f48-accf-6731a4917aec",
   "metadata": {},
   "outputs": [
    {
     "name": "stdout",
     "output_type": "stream",
     "text": [
      "[[1. 0. 0. 0.]\n",
      " [0. 1. 0. 0.]\n",
      " [0. 0. 1. 0.]\n",
      " [0. 0. 0. 1.]]\n"
     ]
    }
   ],
   "source": [
    "arr = np.eye(4)\n",
    "print(arr)  #print the elements Diagonally"
   ]
  },
  {
   "cell_type": "code",
   "execution_count": 36,
   "id": "250fb7a9-f633-4dfe-8af4-e85f79daa9f2",
   "metadata": {},
   "outputs": [
    {
     "name": "stdout",
     "output_type": "stream",
     "text": [
      "[[3 0 0 0]\n",
      " [0 4 0 0]\n",
      " [0 0 1 0]\n",
      " [0 0 0 2]]\n"
     ]
    }
   ],
   "source": [
    "arr = np.diag([3,4,1,2]) # print different elements diagonally\n",
    "print(arr)"
   ]
  },
  {
   "cell_type": "code",
   "execution_count": 2,
   "id": "cda8193b-b5d6-4d82-900b-897fee2e1a5a",
   "metadata": {},
   "outputs": [
    {
     "name": "stdout",
     "output_type": "stream",
     "text": [
      "[1 5 9]\n"
     ]
    }
   ],
   "source": [
    "import numpy as np\n",
    "arr = np.array([[1,2,3],[4,5,6],[7,8,9]])\n",
    "print(np.diag(arr))"
   ]
  },
  {
   "cell_type": "code",
   "execution_count": 4,
   "id": "ebcf5650-686c-4ad9-8cd0-2a8a9998247a",
   "metadata": {},
   "outputs": [
    {
     "name": "stdout",
     "output_type": "stream",
     "text": [
      "[2 4]\n"
     ]
    }
   ],
   "source": [
    "arr = np.array([1,2,3,4,5,6,7])\n",
    "print(arr[1:5:2])"
   ]
  },
  {
   "cell_type": "code",
   "execution_count": 9,
   "id": "b8354737-1dd6-4e4d-a4d6-5dca8371e8b1",
   "metadata": {},
   "outputs": [
    {
     "name": "stdout",
     "output_type": "stream",
     "text": [
      "[6 7 7]\n"
     ]
    }
   ],
   "source": [
    "rand = np.random.randint(0,10,3)\n",
    "print(rand)"
   ]
  },
  {
   "cell_type": "code",
   "execution_count": 11,
   "id": "d67305b1-7686-40fd-b176-f31eb3509dac",
   "metadata": {},
   "outputs": [
    {
     "name": "stdout",
     "output_type": "stream",
     "text": [
      "[[0.68457084 0.11335694 0.24865517]\n",
      " [0.82693815 0.28679429 0.00140525]]\n"
     ]
    }
   ],
   "source": [
    "rand = np.random.rand(2,3)\n",
    "print(rand)"
   ]
  },
  {
   "cell_type": "code",
   "execution_count": 14,
   "id": "f203a565-20f1-4193-a1e3-4990d0090cb2",
   "metadata": {},
   "outputs": [
    {
     "name": "stdout",
     "output_type": "stream",
     "text": [
      "[ 1  2  3  5  6 10]\n",
      "--------------------------------------\n",
      "Array after reshape\n",
      "[[ 1  2]\n",
      " [ 3  5]\n",
      " [ 6 10]]\n"
     ]
    }
   ],
   "source": [
    "arr = np.array([1,2,3,5,6,10])\n",
    "print(arr)\n",
    "print(\"--------------------------------------\")\n",
    "print(\"Array after reshape\")\n",
    "arr2 = arr.reshape(3,2)\n",
    "print(arr2)"
   ]
  },
  {
   "cell_type": "code",
   "execution_count": 16,
   "id": "2549088f-06e7-43b4-b4f8-ac6a978bfd86",
   "metadata": {
    "scrolled": true
   },
   "outputs": [
    {
     "name": "stdout",
     "output_type": "stream",
     "text": [
      "[23 13 77 10 82 95 55 22  3 22 78 35]\n",
      " \n",
      "[[23 13 77]\n",
      " [10 82 95]\n",
      " [55 22  3]\n",
      " [22 78 35]]\n",
      " \n",
      "Array value is 13\n",
      "Array value is 10\n",
      "(4, 3)\n",
      " \n",
      "[[23 13 77 10]\n",
      " [82 95 55 22]\n",
      " [ 3 22 78 35]]\n",
      " \n",
      "[[23 13 77 10 82 95]\n",
      " [55 22  3 22 78 35]]\n"
     ]
    }
   ],
   "source": [
    "arr = np.random.randint(0,100,12)\n",
    "print(arr)\n",
    "print(\" \")\n",
    "arr = arr.reshape(4,3)\n",
    "print(arr)\n",
    "print(\" \")\n",
    "print(\"Array value is\",arr[0][1])\n",
    "print(\"Array value is\",arr[1][0])\n",
    "print(arr.shape)\n",
    "print(\" \")\n",
    "arr = arr.reshape(-1,4)\n",
    "print(arr)\n",
    "print(\" \")\n",
    "arr = arr.reshape(2,-1)\n",
    "print(arr)"
   ]
  },
  {
   "cell_type": "code",
   "execution_count": 21,
   "id": "69b1c013-e74a-4b52-b126-3a6c02d3174c",
   "metadata": {},
   "outputs": [
    {
     "name": "stdout",
     "output_type": "stream",
     "text": [
      "[37 86 87 18 90 69  8 53 33 32 40 26]\n"
     ]
    }
   ],
   "source": [
    "np.random.seed(145)\n",
    "arr = np.random.randint(0,100,12)\n",
    "print(arr)"
   ]
  },
  {
   "cell_type": "code",
   "execution_count": 24,
   "id": "35ce125d-e012-433c-ac16-8b23245ff38e",
   "metadata": {},
   "outputs": [
    {
     "name": "stdout",
     "output_type": "stream",
     "text": [
      "[[341 365 469 213  87]\n",
      " [276 170 323 119 467]\n",
      " [297 456 442   8 269]\n",
      " [267 450 369 217 285]\n",
      " [271 419  22  55 201]\n",
      " [ 38 461 231 187 269]]\n",
      "\n",
      "[[442   8 269]\n",
      " [369 217 285]\n",
      " [ 22  55 201]\n",
      " [231 187 269]]\n",
      "\n",
      "[[369 217]\n",
      " [ 22  55]]\n"
     ]
    }
   ],
   "source": [
    "np.random.seed(111)\n",
    "arr = np.random.randint(1,500,30).reshape(6,5)\n",
    "print(arr)\n",
    "print(\"\")\n",
    "print(arr[2:,2:])\n",
    "print(\"\")\n",
    "print(arr[3:5,2:4])"
   ]
  },
  {
   "cell_type": "code",
   "execution_count": 25,
   "id": "0986b1a7-d47a-43ce-bd7a-50e5a5c1ef8e",
   "metadata": {},
   "outputs": [
    {
     "name": "stdout",
     "output_type": "stream",
     "text": [
      "new slicing [ 2  5  6 11  3]\n",
      "new array [  1  20   3  24   2   5   6  11   3 334 212   4   4  44]\n"
     ]
    }
   ],
   "source": [
    "arr = np.array([1,20,3,24,2,5,6,11,3,334,212,4,4,44])\n",
    "slicing =arr[4:9]\n",
    "print(\"new slicing\",slicing)\n",
    "print('new array',arr)"
   ]
  },
  {
   "cell_type": "code",
   "execution_count": 26,
   "id": "742cc61b-37f8-4e54-bf9a-2a47850eefbb",
   "metadata": {},
   "outputs": [
    {
     "name": "stdout",
     "output_type": "stream",
     "text": [
      "<class 'numpy.ndarray'>\n",
      "<class 'numpy.ndarray'>\n"
     ]
    }
   ],
   "source": [
    "print(type(slicing))\n",
    "print(type(arr))"
   ]
  },
  {
   "cell_type": "code",
   "execution_count": 27,
   "id": "bbe2bba5-2510-4072-a5da-67f7f7a0b8d7",
   "metadata": {},
   "outputs": [
    {
     "name": "stdout",
     "output_type": "stream",
     "text": [
      "old slicing [0 0 0 0 0]\n",
      "old array [  1  20   3  24   0   0   0   0   0 334 212   4   4  44]\n"
     ]
    }
   ],
   "source": [
    "slicing[:]=0\n",
    "print(\"old slicing\",slicing)\n",
    "print(\"old array\",arr)"
   ]
  },
  {
   "cell_type": "code",
   "execution_count": 31,
   "id": "a47d61ce-27d1-4ce8-a6e3-f3dfce19ddcf",
   "metadata": {},
   "outputs": [
    {
     "name": "stdout",
     "output_type": "stream",
     "text": [
      "[ 1  2  3  4  5  6  7  8  9 10 11 12 13 14]\n",
      "even number from range\n",
      "[ 2  4  6  8 10 12 14]\n"
     ]
    }
   ],
   "source": [
    "arr = np.arange(1,15)\n",
    "print(arr)\n",
    "print(\"even number from range\")\n",
    "print(arr[arr % 2 == 0])"
   ]
  },
  {
   "cell_type": "code",
   "execution_count": 30,
   "id": "75d04751-d10e-498c-a813-0b808a5e7308",
   "metadata": {},
   "outputs": [
    {
     "name": "stdout",
     "output_type": "stream",
     "text": [
      "[ 1  2  3  4  5  6  7  8  9 10 11 12 13 14]\n",
      "odd number from range\n",
      "[ 1  3  5  7  9 11 13]\n"
     ]
    }
   ],
   "source": [
    "arr = np.arange(1,15)\n",
    "print(arr)\n",
    "print(\"odd number from range\")\n",
    "print(arr[arr % 2 != 0])"
   ]
  },
  {
   "cell_type": "code",
   "execution_count": 32,
   "id": "936d7da0-17ba-402d-9734-0dfebc00f87b",
   "metadata": {},
   "outputs": [
    {
     "name": "stdout",
     "output_type": "stream",
     "text": [
      "[3 4 5 6 7 8 9]\n",
      "[ 2  4  6  8 10 12 14]\n",
      "[ 1  4  9 16 25 36 49]\n"
     ]
    }
   ],
   "source": [
    "arr = np.arange(1,8)\n",
    "print(arr+2)\n",
    "print(arr*2)\n",
    "print(arr**2)"
   ]
  },
  {
   "cell_type": "code",
   "execution_count": 35,
   "id": "a74411bc-17df-44b3-b6e6-20a27f635758",
   "metadata": {},
   "outputs": [
    {
     "name": "stdout",
     "output_type": "stream",
     "text": [
      "[ 1  2  3  4  5  6  7  8  9 10 11 12 13 14]\n",
      "[ 2  4  6  8 10 12 14]\n",
      "[ 1  3  5  7  9 11 13]\n",
      "[ 9 10 11 12 13 14]\n",
      "[ 1  0  3  0  5  0  7  0  9  0 11  0 13  0]\n"
     ]
    }
   ],
   "source": [
    "arr = np.arange(1,15)\n",
    "print(arr)\n",
    "print(arr[arr%2==0])\n",
    "print(arr[arr%2!=0])\n",
    "print(arr[arr>8])\n",
    "arr[arr%2==0]=0\n",
    "print(arr)"
   ]
  },
  {
   "cell_type": "code",
   "execution_count": 36,
   "id": "528310a1-8ea7-40a1-b033-f328a28f8774",
   "metadata": {},
   "outputs": [
    {
     "name": "stdout",
     "output_type": "stream",
     "text": [
      "2\n",
      "30\n",
      "8\n",
      "2\n",
      "[3.16227766 4.47213595 5.47722558 2.         2.23606798 2.44948974\n",
      " 2.64575131 3.31662479 1.41421356]\n",
      "[-0.54402111  0.91294525 -0.98803162 -0.7568025  -0.95892427 -0.2794155\n",
      "  0.6569866  -0.99999021  0.90929743]\n",
      "[-0.83907153  0.40808206  0.15425145 -0.65364362  0.28366219  0.96017029\n",
      "  0.75390225  0.0044257  -0.41614684]\n"
     ]
    }
   ],
   "source": [
    "arr = np.array([10,20,30,4,5,6,7,11,2])\n",
    "print(np.min(arr))\n",
    "print(np.max(arr))\n",
    "print(np.argmin(arr))\n",
    "print(np.argmax(arr))\n",
    "print(np.sqrt(arr))\n",
    "print(np.sin(arr))\n",
    "print(np.cos(arr))"
   ]
  },
  {
   "cell_type": "code",
   "execution_count": 48,
   "id": "973b97f8-7001-4319-8fe8-00321cf4d36d",
   "metadata": {},
   "outputs": [
    {
     "name": "stdout",
     "output_type": "stream",
     "text": [
      "[[16 11 13]\n",
      " [17 13 16]\n",
      " [ 3 16 11]]\n",
      "\n",
      "sum of the matrix: 116\n",
      "cumsum of the matrix\n",
      "[ 16  27  40  57  70  86  89 105 116]\n",
      "min. element of  matrix 3\n",
      "max. element of  matrix 17\n",
      "--------------------------------------------------------\n",
      "[40 46 30]\n",
      "\n",
      "[11 13  3]\n",
      "\n",
      "[16 17 16]\n",
      "\n",
      "[[16 27 40]\n",
      " [17 30 46]\n",
      " [ 3 19 30]]\n"
     ]
    }
   ],
   "source": [
    "np.random.seed(122)\n",
    "mat = np.random.randint(1,21,9).reshape(3,3)\n",
    "print(mat)\n",
    "print(\"\")\n",
    "print(\"sum of the matrix:\",np.sum(mat))\n",
    "print(\"cumsum of the matrix\")\n",
    "print(np.cumsum(mat))\n",
    "print(\"min. element of  matrix\",np.min(mat))\n",
    "print(\"max. element of  matrix\",np.max(mat))\n",
    "print(\"--------------------------------------------------------\")\n",
    "print(np.sum(mat,axis=1)) #sum of 1st row\n",
    "print(\"\")\n",
    "print(np.min(mat,axis=1))\n",
    "print(\"\")\n",
    "print(np.max(mat,axis=1))\n",
    "print(\"\")\n",
    "print(np.cumsum(mat,axis=1))"
   ]
  },
  {
   "cell_type": "code",
   "execution_count": 53,
   "id": "48a1055f-8eed-4c05-b725-85d833ade947",
   "metadata": {},
   "outputs": [
    {
     "name": "stdout",
     "output_type": "stream",
     "text": [
      "[16 11 13 17 13 16  3 16 11 10]\n",
      "\n",
      "[13 16 16 11 16 10 11 13 17  3]\n",
      "\n",
      "(array([ 3, 10, 11, 13, 16, 17]), array([9, 5, 3, 0, 1, 8], dtype=int64), array([1, 1, 2, 2, 3, 1], dtype=int64))\n",
      "\n",
      "6\n"
     ]
    }
   ],
   "source": [
    "np.random.seed(122)\n",
    "mat = np.random.randint(1,21,10)\n",
    "print(mat)\n",
    "print(\"\")\n",
    "np.random.shuffle(mat)\n",
    "print(mat)\n",
    "print(\"\")\n",
    "print(np.unique(mat, return_index = True, return_counts =True))\n",
    "print(\"\")\n",
    "print(np.unique(mat).size)"
   ]
  },
  {
   "cell_type": "code",
   "execution_count": null,
   "id": "9ea074f1-c8a5-43b8-88d4-99a20a369f1f",
   "metadata": {},
   "outputs": [],
   "source": []
  }
 ],
 "metadata": {
  "kernelspec": {
   "display_name": "Python 3 (ipykernel)",
   "language": "python",
   "name": "python3"
  },
  "language_info": {
   "codemirror_mode": {
    "name": "ipython",
    "version": 3
   },
   "file_extension": ".py",
   "mimetype": "text/x-python",
   "name": "python",
   "nbconvert_exporter": "python",
   "pygments_lexer": "ipython3",
   "version": "3.11.3"
  }
 },
 "nbformat": 4,
 "nbformat_minor": 5
}
