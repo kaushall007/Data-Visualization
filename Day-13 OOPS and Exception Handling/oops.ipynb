{
 "cells": [
  {
   "cell_type": "code",
   "execution_count": 28,
   "id": "6a26f0b6-4676-40b5-afe7-9999c4ee6b94",
   "metadata": {},
   "outputs": [
    {
     "name": "stdout",
     "output_type": "stream",
     "text": [
      "study 3 hour Suraj\n",
      "sleep 6 hour on Sunday\n"
     ]
    }
   ],
   "source": [
    "class student:\n",
    "    name = \"Suraj\"\n",
    "    age = 19\n",
    "    day = 'Sunday'\n",
    "\n",
    "    def study(self):\n",
    "        print(\"study 3 hour\",self.name)\n",
    "        self.sleep()\n",
    "        \n",
    "    def sleep(self):\n",
    "         print(\"sleep 6 hour on\",self.day)\n",
    "\n",
    "obj = student()\n",
    "obj.study()"
   ]
  },
  {
   "cell_type": "code",
   "execution_count": 29,
   "id": "1f0a12a6-79f0-448d-93fa-3dc6796930a9",
   "metadata": {},
   "outputs": [
    {
     "name": "stdout",
     "output_type": "stream",
     "text": [
      "this is show method\n"
     ]
    }
   ],
   "source": [
    "#Inheritence object oriented\n",
    "\n",
    "class A:                        \n",
    "    def show(self):\n",
    "        print(\"this is show method\")\n",
    "class B(A):                    # single inheritence\n",
    "    def demo(self):\n",
    "        print(\"Demo method\")\n",
    "class C(A):                   \n",
    "    pass\n",
    "class D(B,C):\n",
    "    pass\n",
    "obj = C()\n",
    "obj.show()     # Output: this is show method\n",
    "#obj.demo()    # it give error because of inheritance , C class doesn't contain any demo method"
   ]
  },
  {
   "cell_type": "code",
   "execution_count": 12,
   "id": "ef77d480-55c1-49d4-8d13-833dcb1cd394",
   "metadata": {},
   "outputs": [
    {
     "name": "stdout",
     "output_type": "stream",
     "text": [
      "sum is: 50\n",
      "sum is: 60\n"
     ]
    }
   ],
   "source": [
    "#Polymorphism using method Overloading \n",
    "def sum(a,b,c=0):\n",
    "    print(\"sum is:\",a+b+c)\n",
    "sum(10,20,20) # Output: 50\n",
    "sum(30,30)   # Output: 60"
   ]
  },
  {
   "cell_type": "code",
   "execution_count": 15,
   "id": "35ffb80e-329f-4b3b-84a4-0071897ef558",
   "metadata": {},
   "outputs": [
    {
     "name": "stdout",
     "output_type": "stream",
     "text": [
      "I can fly\n",
      "I can'nt fly\n"
     ]
    }
   ],
   "source": [
    "#method Overriding\n",
    "\n",
    "class Bird:\n",
    "    def intro(self):\n",
    "        print(\"There are many types of Birds\")\n",
    "    def fly(sef):\n",
    "        print(\"Some Birds can fly and some are not \")\n",
    "class Sparrow(Bird):\n",
    "    def fly(self):\n",
    "        print(\"I can fly\")\n",
    "class Ostrich(Bird):\n",
    "    def fly(self):\n",
    "        print(\"I can'nt fly\")\n",
    "\n",
    "obj1 = Sparrow()\n",
    "obj2 = Ostrich()\n",
    "\n",
    "obj1.fly()  # Output: I can fly\n",
    "obj2.fly()  # Output: I can't fly"
   ]
  },
  {
   "cell_type": "code",
   "execution_count": 22,
   "id": "cf4ae7fe-52c7-4392-be5e-79eb2f8d8116",
   "metadata": {},
   "outputs": [
    {
     "name": "stdout",
     "output_type": "stream",
     "text": [
      "THIS IS SHOW METHOD Aman\n"
     ]
    }
   ],
   "source": [
    "# Encapsulation\n",
    "\n",
    "class A:\n",
    "    __name = \"Aman\"  # private variable\n",
    "\n",
    "    def set_name(self, name):  # setter\n",
    "        self.__name = name\n",
    "\n",
    "    def get_name(self):  # getter\n",
    "        return self.__name\n",
    "\n",
    "class B(A):\n",
    "    def show(self):\n",
    "        print(\"THIS IS SHOW METHOD\", self.get_name())  # use getter\n",
    "\n",
    "obj = B()\n",
    "obj.show()  # Output: THIS IS SHOW METHOD Aman\n",
    "\n",
    "\n"
   ]
  },
  {
   "cell_type": "code",
   "execution_count": null,
   "id": "d1cb7353-a645-40eb-a0c2-62620c659baf",
   "metadata": {},
   "outputs": [],
   "source": []
  }
 ],
 "metadata": {
  "kernelspec": {
   "display_name": "Python 3 (ipykernel)",
   "language": "python",
   "name": "python3"
  },
  "language_info": {
   "codemirror_mode": {
    "name": "ipython",
    "version": 3
   },
   "file_extension": ".py",
   "mimetype": "text/x-python",
   "name": "python",
   "nbconvert_exporter": "python",
   "pygments_lexer": "ipython3",
   "version": "3.11.3"
  }
 },
 "nbformat": 4,
 "nbformat_minor": 5
}
