{
 "cells": [
  {
   "cell_type": "code",
   "execution_count": 16,
   "id": "4f41e467-91eb-4976-ba89-d1abe5051110",
   "metadata": {},
   "outputs": [
    {
     "name": "stdout",
     "output_type": "stream",
     "text": [
      "Array A\n",
      " 40\n",
      "--------------------------\n",
      "Array B\n",
      " [1 2 3 4 5]\n",
      "--------------------------\n",
      "Array C\n",
      " [[12 22 13 23]\n",
      " [33 21 11 22]]\n",
      "--------------------------\n",
      "Array D\n",
      " [[[16 55 23 43]\n",
      "  [56 66 33 90]\n",
      "  [76  4 33 15]]]\n",
      "--------------------------\n",
      "A array dimension 0\n",
      "B array dimension 1\n",
      "C array dimension 2\n",
      "D array dimension 3\n"
     ]
    }
   ],
   "source": [
    "import numpy as np\n",
    "\n",
    "a = np.array(40)\n",
    "b = np.array([1,2,3,4,5])\n",
    "c = np.array([[12,22,13,23],[33,21,11,22]])\n",
    "d = np.array([[[16,55,23,43],[56,66,33,90],[76,4,33,15]]])\n",
    "\n",
    "print(\"Array A\\n\",a)\n",
    "print(\"--------------------------\")\n",
    "print(\"Array B\\n\",b)\n",
    "print(\"--------------------------\")\n",
    "print(\"Array C\\n\",c)\n",
    "print(\"--------------------------\")\n",
    "print(\"Array D\\n\",d)\n",
    "print(\"--------------------------\")\n",
    "print(\"A array dimension\",a.ndim)\n",
    "print(\"B array dimension\",b.ndim)\n",
    "print(\"C array dimension\",c.ndim)\n",
    "print(\"D array dimension\",d.ndim)"
   ]
  },
  {
   "cell_type": "code",
   "execution_count": 22,
   "id": "52cd5007-4b80-4ce6-a3de-46af20cbef15",
   "metadata": {},
   "outputs": [
    {
     "name": "stdout",
     "output_type": "stream",
     "text": [
      "[  2   3 200   5]\n",
      "[  1   2   3 200   5]\n"
     ]
    }
   ],
   "source": [
    "b = np.array([1,2,3,4,5])\n",
    "b1 = b[1:5]\n",
    "b1[2]=200\n",
    "print(b1)\n",
    "print(b)"
   ]
  },
  {
   "cell_type": "code",
   "execution_count": 24,
   "id": "92082a71-08b7-4c50-805b-b4189b46edd3",
   "metadata": {},
   "outputs": [
    {
     "name": "stdout",
     "output_type": "stream",
     "text": [
      "original array without change [1 2 3 4 5]\n",
      "original array with change [42  2  3  4  5]\n",
      "Copy of Original Array [1 2 3 4 5]\n"
     ]
    }
   ],
   "source": [
    "arr = np.array([1,2,3,4,5])\n",
    "arr2 = arr.copy()\n",
    "print(\"original array without change\",arr)\n",
    "arr[0] = 42\n",
    "print(\"original array with change\",arr)\n",
    "print(\"Copy of Original Array\",arr2)"
   ]
  },
  {
   "cell_type": "code",
   "execution_count": 25,
   "id": "412f087a-3c73-4d6f-a800-8f165351748f",
   "metadata": {},
   "outputs": [
    {
     "name": "stdout",
     "output_type": "stream",
     "text": [
      "[43  2  3  4  5]\n",
      "[43  2  3  4  5]\n"
     ]
    }
   ],
   "source": [
    "arr = np.array([1,2,3,4,5])\n",
    "x = arr.view()\n",
    "arr[0]=43\n",
    "print(arr)\n",
    "print(x)"
   ]
  },
  {
   "cell_type": "code",
   "execution_count": 35,
   "id": "6e41b624-8f26-47bb-9b08-36a5af69bd38",
   "metadata": {},
   "outputs": [
    {
     "name": "stdout",
     "output_type": "stream",
     "text": [
      "[[1. 1. 1. 1.]\n",
      " [1. 1. 1. 1.]\n",
      " [1. 1. 1. 1.]]\n"
     ]
    }
   ],
   "source": [
    "arr = np.ones([3,4])\n",
    "print(arr)"
   ]
  },
  {
   "cell_type": "code",
   "execution_count": 32,
   "id": "271a469d-9de8-4f48-accf-6731a4917aec",
   "metadata": {},
   "outputs": [
    {
     "name": "stdout",
     "output_type": "stream",
     "text": [
      "[[1. 0. 0. 0.]\n",
      " [0. 1. 0. 0.]\n",
      " [0. 0. 1. 0.]\n",
      " [0. 0. 0. 1.]]\n"
     ]
    }
   ],
   "source": [
    "arr = np.eye(4)\n",
    "print(arr)  #print the elements Diagonally"
   ]
  },
  {
   "cell_type": "code",
   "execution_count": 36,
   "id": "250fb7a9-f633-4dfe-8af4-e85f79daa9f2",
   "metadata": {},
   "outputs": [
    {
     "name": "stdout",
     "output_type": "stream",
     "text": [
      "[[3 0 0 0]\n",
      " [0 4 0 0]\n",
      " [0 0 1 0]\n",
      " [0 0 0 2]]\n"
     ]
    }
   ],
   "source": [
    "arr = np.diag([3,4,1,2]) # print different elements diagonally\n",
    "print(arr)"
   ]
  },
  {
   "cell_type": "code",
   "execution_count": null,
   "id": "98222f73-9bd8-451a-904d-85f2081467b0",
   "metadata": {},
   "outputs": [],
   "source": []
  }
 ],
 "metadata": {
  "kernelspec": {
   "display_name": "Python 3 (ipykernel)",
   "language": "python",
   "name": "python3"
  },
  "language_info": {
   "codemirror_mode": {
    "name": "ipython",
    "version": 3
   },
   "file_extension": ".py",
   "mimetype": "text/x-python",
   "name": "python",
   "nbconvert_exporter": "python",
   "pygments_lexer": "ipython3",
   "version": "3.11.3"
  }
 },
 "nbformat": 4,
 "nbformat_minor": 5
}
