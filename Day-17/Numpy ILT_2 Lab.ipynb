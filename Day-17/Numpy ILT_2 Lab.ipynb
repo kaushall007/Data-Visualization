{
 "cells": [
  {
   "cell_type": "code",
   "execution_count": 1,
   "id": "7d109f03-4ae2-45c6-8ec4-56e3a284ae51",
   "metadata": {},
   "outputs": [],
   "source": [
    "import numpy as np"
   ]
  },
  {
   "cell_type": "code",
   "execution_count": 62,
   "id": "2ff05090-958a-4ff2-9e94-f2e31b03faac",
   "metadata": {},
   "outputs": [
    {
     "name": "stdout",
     "output_type": "stream",
     "text": [
      "\n",
      "hot days:\n",
      "days [ 3  6 10] temperature (°C) [36.8 38.7 37.2]\n",
      "\n",
      "cold days:\n",
      "days [11 12 13 14] temperature (°C) [-3.   2.   3.9 -4. ]\n"
     ]
    }
   ],
   "source": [
    "#Suppose you have a dataset containing daily temperature readings for a city, and youwant to identify days with extreme temperature conditions. Find days where thetemperatureeither exceeded 35 degrees Celsius (hot day) or dropped below 5 degreesCelsius (cold day).\n",
    "\n",
    "temperatures = np.array([32.5,34.2,36.8,29.3,31.0,38.7,23.1,18.5,22.8,37.2,-3.0,2.0,3.9,-4])\n",
    "hot_days = np.where(temperatures >35)[0] + 1\n",
    "cold_days = np.where(temperatures < 5) [0] + 1 \n",
    "hot_days_temp = temperatures[hot_days - 1]\n",
    "cold_days_temp = temperatures[cold_days - 1]\n",
    "print(\"\")\n",
    "print(\"hot days:\")\n",
    "print(f'days {hot_days} temperature (°C) {hot_days_temp}')\n",
    "print(\"\")\n",
    "print(\"cold days:\")\n",
    "print(f'days {cold_days} temperature (°C) {cold_days_temp}')"
   ]
  },
  {
   "cell_type": "code",
   "execution_count": null,
   "id": "5d06d68a-0c3f-4149-81eb-91a1959a8ec0",
   "metadata": {},
   "outputs": [],
   "source": []
  },
  {
   "cell_type": "code",
   "execution_count": 26,
   "id": "afa852b9-2e87-48ab-8b98-3a11c8ce22f2",
   "metadata": {},
   "outputs": [
    {
     "name": "stdout",
     "output_type": "stream",
     "text": [
      "\n",
      "Quarter 1 Sales:\n",
      "120\n",
      "135\n",
      "148\n",
      "\n",
      "Quarter 2 Sales:\n",
      "165\n",
      "180\n",
      "155\n",
      "\n",
      "Quarter 3 Sales:\n",
      "168\n",
      "190\n",
      "205\n",
      "\n",
      "Quarter 4 Sales:\n",
      "198\n",
      "210\n",
      "225\n"
     ]
    }
   ],
   "source": [
    "#Suppose you have a dataset containing monthly sales data for a company, and you want to split this data into quarterly reports for analysis and reporting purposes.\n",
    "\n",
    "monthly_sales = np.array([120, 135, 148, 165, 180, 155, 168, 190, 205, 198, 210, 225])\n",
    "\n",
    "# Split into quarters and print\n",
    "quarter_sales = np.split(monthly_sales, 4)\n",
    "for i, quarter in enumerate(quarter_sales):\n",
    "    print(f\"\\nQuarter {i+1} Sales:\")\n",
    "    for sales in quarter:\n",
    "        print(sales)\n"
   ]
  },
  {
   "cell_type": "code",
   "execution_count": null,
   "id": "4e06a5fe-3fcd-4cab-8c04-5fb8dcdf709a",
   "metadata": {},
   "outputs": [],
   "source": []
  },
  {
   "cell_type": "code",
   "execution_count": 27,
   "id": "f25d91bf-2834-4264-b9b8-b19e9e48fe35",
   "metadata": {},
   "outputs": [
    {
     "name": "stdout",
     "output_type": "stream",
     "text": [
      "Recent Customers (made a purchase in the last 30 days):\n",
      "[101 102 103 104 105]\n",
      "\n",
      "Inactive Customers (haven't made a purchase in the last 30 days):\n",
      "[106 107 108 109 110]\n"
     ]
    }
   ],
   "source": [
    "#Suppose you have a dataset containing customer data, and you want to split this datainto two groups: one group for customers who made a purchase in the last 30 days andanother group for customers who haven't made a purchase in the last 30 days\n",
    "customer_ids = np.array([101, 102, 103, 104, 105, 106, 107, 108, 109, 110])\n",
    "last_purchase_days_ago = np.array([5, 15, 20, 25, 30, 35, 40, 45, 50, 55])\n",
    "recent_purchase_threshold = 30\n",
    "\n",
    "# Split customers into two groups\n",
    "recent_customers = customer_ids[last_purchase_days_ago <= recent_purchase_threshold]\n",
    "inactive_customers = customer_ids[last_purchase_days_ago > recent_purchase_threshold]\n",
    "\n",
    "# Print results\n",
    "print(\"Recent Customers (made a purchase in the last 30 days):\")\n",
    "print(recent_customers)\n",
    "print(\"\\nInactive Customers (haven't made a purchase in the last 30 days):\")\n",
    "print(inactive_customers)"
   ]
  },
  {
   "cell_type": "code",
   "execution_count": 31,
   "id": "304cc04c-9fbe-4b5b-a341-28e232ad26b7",
   "metadata": {},
   "outputs": [
    {
     "name": "stdout",
     "output_type": "stream",
     "text": [
      "combined Employees Data:\n",
      "\n",
      "[['101' 'John Doe' 'Full-Time' '55000']\n",
      " ['102' 'Jane Smith' 'Full-Time' '60000']\n",
      " ['103' 'Mike Johnson' 'Full-Time' '52000']\n",
      " ['201' 'Alice Brown' 'Part-Time' '25000']\n",
      " ['202' 'Bob Wilson' 'Part-Time' '28000']\n",
      " ['203' 'Emily Davis' 'Part-Time' '22000']]\n"
     ]
    }
   ],
   "source": [
    "#Suppose you have two sets of employee data—one containing information aboutfull-time employees and another containing information about part-time employees. Youwant to combine this data to create a comprehensive employee dataset for HR analysis.\n",
    "\n",
    "\n",
    "# Employee data for full-time employees\n",
    "full_time_employees = np.array([[101, 'John Doe', 'Full-Time', 55000],[102, 'Jane Smith', 'Full-Time', 60000],[103, 'Mike Johnson', 'Full-Time', 52000]])\n",
    "# Employee data for part-time employees\n",
    "part_time_employees = np.array([[201, 'Alice Brown', 'Part-Time', 25000],[202, 'Bob Wilson', 'Part-Time', 28000],[203, 'Emily Davis', 'Part-Time', 22000]])\n",
    "result = np.concatenate((full_time_employees, part_time_employees),axis=0)\n",
    "print(\"combined Employees Data:\")\n",
    "print(\"\")\n",
    "print(result)"
   ]
  },
  {
   "cell_type": "code",
   "execution_count": null,
   "id": "3d977001-6f3f-4953-ad32-aa710f022835",
   "metadata": {},
   "outputs": [],
   "source": []
  },
  {
   "cell_type": "code",
   "execution_count": 43,
   "id": "539cf3f4-a67b-4745-9458-1c1e7f5e6f87",
   "metadata": {},
   "outputs": [
    {
     "name": "stdout",
     "output_type": "stream",
     "text": [
      "Mean of array 1: 5.5\n",
      "Mean of array 2: 30.6\n",
      "Mean of array 3: 34.0\n"
     ]
    }
   ],
   "source": [
    "# How to find the mean of every NumPy array in the given list?\n",
    "list = [\n",
    "np.array([3, 2, 8, 9]),\n",
    "np.array([4, 12, 34, 25, 78]),\n",
    "np.array([23, 12, 67])\n",
    "]\n",
    "means = [np.mean(arr) for arr in list]\n",
    "# Print the means\n",
    "for i, mean in enumerate(means):\n",
    "    print(f\"Mean of array {i+1}: {mean}\")\n"
   ]
  },
  {
   "cell_type": "code",
   "execution_count": 47,
   "id": "be6c01d8-fad7-41b5-8380-d637265a07b2",
   "metadata": {},
   "outputs": [
    {
     "name": "stdout",
     "output_type": "stream",
     "text": [
      "printing original array [1 2 3 4 5 6 7]\n",
      "printing median of array that contains odd numbers: 4.0\n"
     ]
    }
   ],
   "source": [
    "#Compute the median of the flattened NumPy array\n",
    "x_odd = np.array([1, 2, 3, 4, 5, 6, 7])\n",
    "median = np.median(x_odd)\n",
    "print(\"printing original array\", x_odd)\n",
    "print(\"printing median of array that contains odd numbers:\",median)"
   ]
  },
  {
   "cell_type": "code",
   "execution_count": 51,
   "id": "716264ec-4a98-4065-b3a6-daf5370d5f8e",
   "metadata": {},
   "outputs": [
    {
     "name": "stdout",
     "output_type": "stream",
     "text": [
      "Standard deviation 12.576167937809991\n"
     ]
    }
   ],
   "source": [
    "# Compute the standard deviation of the NumPy array\n",
    "arr = [20, 2, 7, 1, 34]\n",
    "std = np.std(arr)\n",
    "print(\"Standard deviation\",std)"
   ]
  },
  {
   "cell_type": "code",
   "execution_count": null,
   "id": "de1ef44e-670a-4317-9816-2566625184c7",
   "metadata": {},
   "outputs": [],
   "source": []
  }
 ],
 "metadata": {
  "kernelspec": {
   "display_name": "Python 3 (ipykernel)",
   "language": "python",
   "name": "python3"
  },
  "language_info": {
   "codemirror_mode": {
    "name": "ipython",
    "version": 3
   },
   "file_extension": ".py",
   "mimetype": "text/x-python",
   "name": "python",
   "nbconvert_exporter": "python",
   "pygments_lexer": "ipython3",
   "version": "3.11.3"
  }
 },
 "nbformat": 4,
 "nbformat_minor": 5
}
