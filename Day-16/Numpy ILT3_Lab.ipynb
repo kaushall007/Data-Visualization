{
 "cells": [
  {
   "cell_type": "code",
   "execution_count": 5,
   "id": "756766f1-0eca-49d3-bf11-0b3838d4ba71",
   "metadata": {},
   "outputs": [
    {
     "name": "stdout",
     "output_type": "stream",
     "text": [
      "Total Revenue: [ 950 1300 1500 1150]\n"
     ]
    }
   ],
   "source": [
    "#calculate the total revenue genreated by the two product categories in a store\n",
    "import numpy as np\n",
    "cat1 = np.array([500, 600, 700, 550])\n",
    "cat2 = np.array([450, 700, 800, 600])\n",
    "\n",
    "total_revenue = cat1 + cat2\n",
    "print(\"Total Revenue:\",total_revenue)"
   ]
  },
  {
   "cell_type": "code",
   "execution_count": 25,
   "id": "ca97c3f5-d2f3-48fa-818a-a74fbd34de06",
   "metadata": {},
   "outputs": [
    {
     "name": "stdout",
     "output_type": "stream",
     "text": [
      "profit is: [6000 7000 6500 5700]\n"
     ]
    }
   ],
   "source": [
    "#calculate the profit made by the company\n",
    "revenue = np.array([10000, 12000, 11000, 10500])\n",
    "expenses = np.array([4000, 5000, 4500 ,4800])\n",
    "\n",
    "profit = revenue - expenses\n",
    "print(\"profit is:\",profit)"
   ]
  },
  {
   "cell_type": "code",
   "execution_count": 23,
   "id": "144e791b-2ca9-4dbe-8351-98c55ad4e9f6",
   "metadata": {},
   "outputs": [
    {
     "name": "stdout",
     "output_type": "stream",
     "text": [
      "out of stock:-\n",
      "[0 0 0]\n"
     ]
    }
   ],
   "source": [
    "#determine which products is a store are out stocks (quantity is 0)\n",
    "inventory = np.array([10, 0, 5, 0, 20, 0])\n",
    "print(\"out of stock:-\")\n",
    "print(inventory[inventory == 0])"
   ]
  },
  {
   "cell_type": "code",
   "execution_count": 24,
   "id": "2a9587d5-6437-45c1-a65a-d60a9fd2ed8d",
   "metadata": {},
   "outputs": [
    {
     "name": "stdout",
     "output_type": "stream",
     "text": [
      "total cost : [20. 15. 32. 12.]\n"
     ]
    }
   ],
   "source": [
    "#calculate the total cost of items in a shopping cart, considering the quantity and price per item\n",
    "quantity = np.array([2, 3, 4, 1])\n",
    "price = np.array([10.0, 5.0, 8.0, 12.0])\n",
    "print(\"total cost :\",quantity*price)"
   ]
  },
  {
   "cell_type": "code",
   "execution_count": null,
   "id": "7e6e99bd-14e0-4988-b3f2-55540886daa2",
   "metadata": {},
   "outputs": [],
   "source": []
  }
 ],
 "metadata": {
  "kernelspec": {
   "display_name": "Python 3 (ipykernel)",
   "language": "python",
   "name": "python3"
  },
  "language_info": {
   "codemirror_mode": {
    "name": "ipython",
    "version": 3
   },
   "file_extension": ".py",
   "mimetype": "text/x-python",
   "name": "python",
   "nbconvert_exporter": "python",
   "pygments_lexer": "ipython3",
   "version": "3.11.3"
  }
 },
 "nbformat": 4,
 "nbformat_minor": 5
}
