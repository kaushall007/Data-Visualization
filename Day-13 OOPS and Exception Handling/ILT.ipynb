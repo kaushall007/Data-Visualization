{
 "cells": [
  {
   "cell_type": "code",
   "execution_count": 13,
   "id": "f08f5914-e07d-4a9f-9e3d-f5fa1361543b",
   "metadata": {},
   "outputs": [
    {
     "name": "stdout",
     "output_type": "stream",
     "text": [
      "=================================================================\n"
     ]
    },
    {
     "name": "stdin",
     "output_type": "stream",
     "text": [
      "Enter 1st Number: 12\n",
      "Enter 2nd Number: 2\n"
     ]
    },
    {
     "name": "stdout",
     "output_type": "stream",
     "text": [
      "6.0\n",
      "=================================================================\n"
     ]
    }
   ],
   "source": [
    "#1 Write a Python program to handle a ZeroDivisionError exception while dividing a number by zero\n",
    "print(\"=================================================================\")\n",
    "num1 = int(input(\"Enter 1st Number:\"))\n",
    "num2 = int(input(\"Enter 2nd Number:\"))\n",
    "try:\n",
    "    print(num1 / num2)\n",
    "except ZeroDivisionError as e:\n",
    "    print(e)\n",
    "print(\"=================================================================\")\n"
   ]
  },
  {
   "cell_type": "code",
   "execution_count": 14,
   "id": "5c862821-c2f0-4cf0-8895-86573d2e1c22",
   "metadata": {},
   "outputs": [
    {
     "name": "stdin",
     "output_type": "stream",
     "text": [
      "Enter an Integer: 22\n"
     ]
    },
    {
     "name": "stdout",
     "output_type": "stream",
     "text": [
      "you entered :22\n"
     ]
    }
   ],
   "source": [
    "#2. Write a Python program that prompts the user to input an integer and raises a ValueError exception if the input is not a valid integer\n",
    "try:\n",
    "    num = int(input(\"Enter an Integer:\"))\n",
    "    print(f\"you entered :{num}\")\n",
    "except ValueError:\n",
    "    print(\"Invalid! input , Please enter an integer\")\n"
   ]
  },
  {
   "cell_type": "code",
   "execution_count": 15,
   "id": "0c46b7f8-888a-46d8-9200-6f827ec146e0",
   "metadata": {},
   "outputs": [
    {
     "name": "stdout",
     "output_type": "stream",
     "text": [
      "=================================================================\n",
      "Something went wrong\n",
      "exit.....\n",
      "==================================================================\n"
     ]
    }
   ],
   "source": [
    "#3 Write a Python program  that open a file handle a FileNotFoundError exception if the file does not exist\n",
    "print(\"=================================================================\")\n",
    "try:\n",
    "    open(\"Name.txt\")\n",
    "except FileNotFoundError  as e:\n",
    "    print(\"Something went wrong\")\n",
    "    \n",
    "print(\"exit.....\")\n",
    "print(\"==================================================================\")"
   ]
  },
  {
   "cell_type": "code",
   "execution_count": 16,
   "id": "58a7a702-61c7-4c54-9f3c-860fc231bdc7",
   "metadata": {},
   "outputs": [
    {
     "name": "stdin",
     "output_type": "stream",
     "text": [
      "Enter the first number:  11\n",
      "Enter the second number:  1\n"
     ]
    },
    {
     "name": "stdout",
     "output_type": "stream",
     "text": [
      "num1 is greater\n"
     ]
    }
   ],
   "source": [
    "#4. Write a Python program that prompts the user to input two numbers and raises a TypeError exception if the inputs are not numerical\n",
    "\n",
    "try:\n",
    "    num1 = int(input(\"Enter the first number: \"))\n",
    "    num2 = int(input(\"Enter the second number: \"))\n",
    "    result = \"num1 is greater\" if num1 > num2 else \"num2 is greater\" if num2 > num1 else \"equal\"\n",
    "    print(result)\n",
    "except ValueError:\n",
    "    print(\"Invalid input. Please enter numerical values only.\")\n",
    "\n",
    "\n",
    "    "
   ]
  },
  {
   "cell_type": "code",
   "execution_count": null,
   "id": "8617e1c8-bbe9-4805-8a3c-9006f32e3a72",
   "metadata": {},
   "outputs": [],
   "source": []
  }
 ],
 "metadata": {
  "kernelspec": {
   "display_name": "Python 3 (ipykernel)",
   "language": "python",
   "name": "python3"
  },
  "language_info": {
   "codemirror_mode": {
    "name": "ipython",
    "version": 3
   },
   "file_extension": ".py",
   "mimetype": "text/x-python",
   "name": "python",
   "nbconvert_exporter": "python",
   "pygments_lexer": "ipython3",
   "version": "3.11.3"
  }
 },
 "nbformat": 4,
 "nbformat_minor": 5
}
