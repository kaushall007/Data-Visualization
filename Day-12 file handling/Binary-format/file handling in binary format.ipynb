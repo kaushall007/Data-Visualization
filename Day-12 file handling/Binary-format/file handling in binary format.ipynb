{
 "cells": [
  {
   "cell_type": "code",
   "execution_count": 10,
   "id": "e786fef7-6712-441d-b50b-5ed461b0a861",
   "metadata": {},
   "outputs": [],
   "source": [
    "# Write a program to create a binary file \"Stu.dat\" \n",
    "import pickle\n",
    "f = open(\"Stu.dat\",\"wb\")\n",
    "stud_details = [['Rollno.','Name','Marks'],[1,'Aman',78],[2,'Anuj',77],[3,'Anjana',76],[4,'Rohit',88],[5,'Rohan',65],[6,'Suraj',91]]\n",
    "pickle.dump(stud_details,f)\n",
    "f.close()"
   ]
  },
  {
   "cell_type": "code",
   "execution_count": 11,
   "id": "44405a52-a6ba-4e66-aef2-22a8607f45e6",
   "metadata": {},
   "outputs": [
    {
     "name": "stdout",
     "output_type": "stream",
     "text": [
      "Rollno. Name Marks\n",
      "1 Aman 78\n",
      "2 Anuj 77\n"
     ]
    }
   ],
   "source": [
    "#Enter the students rollno. Name and marks till the user want\n",
    "f = open(\"stu.dat\",\"rb\")\n",
    "data = pickle.load(f)\n",
    "i = 0\n",
    "while i <=2:\n",
    "    print(*data[i])\n",
    "    i+=1\n",
    "f.close()"
   ]
  },
  {
   "cell_type": "code",
   "execution_count": 12,
   "id": "c2ad918e-f6aa-4e69-aa03-b77abdbbf9f4",
   "metadata": {},
   "outputs": [
    {
     "name": "stdout",
     "output_type": "stream",
     "text": [
      "Rollno:4 Name:Rohit Marks:88\n",
      "Rollno:6 Name:Suraj Marks:91\n"
     ]
    }
   ],
   "source": [
    "#student details whose marks is greater than 81\n",
    "f = open(\"stu.dat\",\"rb\")\n",
    "data = pickle.load(f)\n",
    "for val in data:\n",
    "    if(val[2]!=\"Marks\" and val[2]>81):\n",
    "        print(f\"Rollno:{val[0]} Name:{val[1]} Marks:{val[2]}\")\n"
   ]
  },
  {
   "cell_type": "code",
   "execution_count": null,
   "id": "caff41fc-2ad6-4aca-bfe6-1783c046ceb9",
   "metadata": {},
   "outputs": [],
   "source": []
  }
 ],
 "metadata": {
  "kernelspec": {
   "display_name": "Python 3 (ipykernel)",
   "language": "python",
   "name": "python3"
  },
  "language_info": {
   "codemirror_mode": {
    "name": "ipython",
    "version": 3
   },
   "file_extension": ".py",
   "mimetype": "text/x-python",
   "name": "python",
   "nbconvert_exporter": "python",
   "pygments_lexer": "ipython3",
   "version": "3.11.3"
  }
 },
 "nbformat": 4,
 "nbformat_minor": 5
}
