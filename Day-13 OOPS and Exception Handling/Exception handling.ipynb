{
 "cells": [
  {
   "cell_type": "code",
   "execution_count": 8,
   "id": "e8b4fe43-1faa-4a97-a7e3-41dc7b1a0471",
   "metadata": {},
   "outputs": [
    {
     "name": "stdout",
     "output_type": "stream",
     "text": [
      "Division of two number\n",
      "=================================================================\n"
     ]
    },
    {
     "name": "stdin",
     "output_type": "stream",
     "text": [
      "Enter 1st Number: 9\n",
      "Enter 2nd Number: 0\n"
     ]
    },
    {
     "name": "stdout",
     "output_type": "stream",
     "text": [
      "division by zero\n",
      "exit.....\n",
      "=================================================================\n"
     ]
    }
   ],
   "source": [
    "# try and Except Block\n",
    "\n",
    "print(\"Division of two number\")\n",
    "print(\"=================================================================\")\n",
    "num1 = int(input(\"Enter 1st Number:\"))\n",
    "num2 = int(input(\"Enter 2nd Number:\"))\n",
    "try:\n",
    "    print(num1 / num2)\n",
    "    open(\"Name.txt\")\n",
    "except ZeroDivisionError as e:\n",
    "    print(e)\n",
    "print(\"exit.....\")\n",
    "print(\"=================================================================\")\n"
   ]
  },
  {
   "cell_type": "code",
   "execution_count": 9,
   "id": "4045bcec-6a5f-4520-be9a-93e7c6c57202",
   "metadata": {},
   "outputs": [
    {
     "name": "stdout",
     "output_type": "stream",
     "text": [
      "=================================================================\n"
     ]
    },
    {
     "name": "stdin",
     "output_type": "stream",
     "text": [
      "Enter 1st Number: 9\n",
      "Enter 2nd Number: 0\n"
     ]
    },
    {
     "name": "stdout",
     "output_type": "stream",
     "text": [
      "Something went wrong\n",
      "exit.....\n"
     ]
    }
   ],
   "source": [
    "# try and Multiple Except Block\n",
    " \n",
    "print(\"=================================================================\")\n",
    "num1 = int(input(\"Enter 1st Number:\"))\n",
    "num2 = int(input(\"Enter 2nd Number:\"))\n",
    "try:\n",
    "    print(num1 / num2)\n",
    "    open(\"Name.txt\")\n",
    "except (ZeroDivisionError, FileNotFoundError ) as e:\n",
    "    print(\"Something went wrong\")\n",
    "    \n",
    "print(\"exit.....\")"
   ]
  },
  {
   "cell_type": "code",
   "execution_count": 12,
   "id": "c69814be-0fa7-4543-9fb2-800b344dc104",
   "metadata": {},
   "outputs": [
    {
     "name": "stdin",
     "output_type": "stream",
     "text": [
      "enter 1st number: 50\n",
      "enter 2nd number: 5\n"
     ]
    },
    {
     "name": "stdout",
     "output_type": "stream",
     "text": [
      "--------------------------------------\n",
      "10.0\n",
      "Else block\n",
      "Final block\n",
      "Exit....\n",
      "--------------------------------------\n"
     ]
    }
   ],
   "source": [
    "#working of Finally Block\n",
    "\n",
    "num1 = int(input(\"enter 1st number:\"))\n",
    "num2 = int(input(\"enter 2nd number:\"))\n",
    "\n",
    "print(\"--------------------------------------\")\n",
    "try:\n",
    "    print(num1 / num2 )\n",
    "except:\n",
    "    print(\"Somethinf went wrong\")\n",
    "else:\n",
    "    print(\"Else block\")\n",
    "finally:\n",
    "    print(\"Final block\")\n",
    "\n",
    "print(\"Exit....\")\n",
    "print(\"--------------------------------------\")\n"
   ]
  },
  {
   "cell_type": "code",
   "execution_count": null,
   "id": "d02df96a-883f-497c-8142-908aac5efccd",
   "metadata": {},
   "outputs": [],
   "source": []
  }
 ],
 "metadata": {
  "kernelspec": {
   "display_name": "Python 3 (ipykernel)",
   "language": "python",
   "name": "python3"
  },
  "language_info": {
   "codemirror_mode": {
    "name": "ipython",
    "version": 3
   },
   "file_extension": ".py",
   "mimetype": "text/x-python",
   "name": "python",
   "nbconvert_exporter": "python",
   "pygments_lexer": "ipython3",
   "version": "3.11.3"
  }
 },
 "nbformat": 4,
 "nbformat_minor": 5
}
