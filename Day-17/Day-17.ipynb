{
 "cells": [
  {
   "cell_type": "code",
   "execution_count": 1,
   "id": "52e75294-8127-49a5-beb2-047e4a35db27",
   "metadata": {},
   "outputs": [],
   "source": [
    "import numpy as np"
   ]
  },
  {
   "cell_type": "code",
   "execution_count": 6,
   "id": "ad0dbbf2-b9a2-416c-b11f-3c2226c21578",
   "metadata": {},
   "outputs": [
    {
     "name": "stdout",
     "output_type": "stream",
     "text": [
      "Existing array is  [ 3 67  1  2 99 12 45 10]\n",
      "======================================================\n",
      "sorted array in ascending [ 1  2  3 10 12 45 67 99]\n",
      "======================================================\n",
      "sorted array in descending  [99 67 45 12 10  3  2  1]\n"
     ]
    }
   ],
   "source": [
    "arr = np.array([3,67,1,2,99,12,45,10])\n",
    "sorted_array = np.sort(arr)\n",
    "print(\"Existing array is \", arr)\n",
    "print(\"======================================================\")\n",
    "print(\"sorted array in ascending\", sorted_array)\n",
    "print(\"======================================================\")\n",
    "new_sorted = np.sort(arr)[::-1]\n",
    "print(\"sorted array in descending \", new_sorted)"
   ]
  },
  {
   "cell_type": "code",
   "execution_count": 7,
   "id": "de99675f-5e1a-4aed-986a-f72ca8cc7491",
   "metadata": {},
   "outputs": [
    {
     "name": "stdout",
     "output_type": "stream",
     "text": [
      "Sorted Matrix (ascending along rows)\n",
      "[[1 2 3]\n",
      " [4 5 8]]\n"
     ]
    }
   ],
   "source": [
    "# sort matrix along row\n",
    "\n",
    "matrix = np.array([[3,1,2],[8,5,4]])\n",
    "sorted_matrix = np.sort(matrix, axis=1)\n",
    "print(\"Sorted Matrix (ascending along rows)\")\n",
    "print(sorted_matrix)"
   ]
  },
  {
   "cell_type": "code",
   "execution_count": 11,
   "id": "07a719f2-cbd1-4f2b-827d-4b73f7a2f04d",
   "metadata": {},
   "outputs": [
    {
     "name": "stdout",
     "output_type": "stream",
     "text": [
      "[[12 13  3  3]\n",
      " [ 2  3  5  5]]\n"
     ]
    }
   ],
   "source": [
    "#NUMPY JOIN using vstack(), hstack(), concatenate()\n",
    "\n",
    "#concatenate matrix using row wise\n",
    "arr1 = np.array([[12,13],[2,3]])\n",
    "arr2 = np.array([[3,3],[5,5]])\n",
    "result = np.concatenate((arr1, arr2),axis=1)\n",
    "print(result)"
   ]
  },
  {
   "cell_type": "code",
   "execution_count": 16,
   "id": "9ff99dbf-38b6-4e80-b151-e30115e5dc32",
   "metadata": {},
   "outputs": [
    {
     "name": "stdout",
     "output_type": "stream",
     "text": [
      "[[12 13]\n",
      " [ 5  5]]\n"
     ]
    }
   ],
   "source": [
    "#joining  matrix using vstack()\n",
    "\n",
    "arr1 = np.array([12,13])\n",
    "arr2 = np.array([5,5])\n",
    "result = np.vstack((arr1, arr2)) #vertical join\n",
    "print(result)"
   ]
  },
  {
   "cell_type": "code",
   "execution_count": 15,
   "id": "0ed2a02e-4a00-4532-82f4-7e6e33603b77",
   "metadata": {},
   "outputs": [
    {
     "name": "stdout",
     "output_type": "stream",
     "text": [
      "[12 13  5  5]\n"
     ]
    }
   ],
   "source": [
    "#joining  matrix using hstack()\n",
    "\n",
    "arr1 = np.array([12,13])\n",
    "arr2 = np.array([5,5])\n",
    "result = np.hstack((arr1, arr2)) #horizontal join\n",
    "print(result)"
   ]
  },
  {
   "cell_type": "code",
   "execution_count": 20,
   "id": "73527d4b-3f28-45d2-9675-51b774d93544",
   "metadata": {},
   "outputs": [
    {
     "name": "stdout",
     "output_type": "stream",
     "text": [
      "Filtered Array: [3 4 5]\n"
     ]
    }
   ],
   "source": [
    "arr = np.array([1,2,3,4,5,6])\n",
    "mask = (arr > 2) & (arr < 6)\n",
    "filtered_array = arr[mask]\n",
    "# Print the filtered array\n",
    "print(\"Filtered Array:\", filtered_array)"
   ]
  },
  {
   "cell_type": "code",
   "execution_count": 24,
   "id": "1f7414c1-3be7-4bca-8efa-126df1bfaeae",
   "metadata": {},
   "outputs": [
    {
     "name": "stdout",
     "output_type": "stream",
     "text": [
      "\n",
      "--------------------Mean----------------------\n",
      "Class A Score Average 90.0\n",
      "Class B Score Average 86.0\n",
      "----------------------------------------------\n",
      "\n",
      "----------------Variance-----------------------\n",
      "Class A variance 11.6\n",
      "Class B variance 114.0\n",
      "------------------------------------------------\n",
      "\n",
      "-------------Standard Deviation-----------------\n",
      "Class A standard_deviation 3.40587727318528\n",
      "Class B standard_deviation 10.677078252031311\n",
      "------------------------------------------------\n"
     ]
    }
   ],
   "source": [
    "# variance and standard deviation\n",
    "\n",
    "# Score of Class A students\n",
    "classA= np.array([85, 88, 90, 92, 95])\n",
    "# Score of Class A students\n",
    "classB= np.array([70, 80, 85, 95, 100])\n",
    "classA_mean=np.mean(classA)\n",
    "classB_mean=np.mean(classB)\n",
    "print(\"\")\n",
    "print(\"--------------------Mean----------------------\")\n",
    "print('Class A Score Average',classA_mean )\n",
    "print('Class B Score Average',classB_mean )\n",
    "print(\"----------------------------------------------\")\n",
    "classA_var=np.var(classA)\n",
    "classB_var=np.var(classB)\n",
    "print(\"\")\n",
    "print(\"----------------Variance-----------------------\")\n",
    "print('Class A variance',classA_var )\n",
    "print('Class B variance',classB_var )\n",
    "print(\"------------------------------------------------\")\n",
    "classA_std = np.std(classA)\n",
    "classB_std = np.std(classB)\n",
    "print(\"\")\n",
    "print(\"-------------Standard Deviation-----------------\")\n",
    "print('Class A standard_deviation',classA_std )\n",
    "print('Class B standard_deviation',classB_std )\n",
    "print(\"------------------------------------------------\")"
   ]
  },
  {
   "cell_type": "code",
   "execution_count": 25,
   "id": "ad3e35b0-9364-410c-8a56-7e046acf36f7",
   "metadata": {},
   "outputs": [
    {
     "name": "stdout",
     "output_type": "stream",
     "text": [
      "Original Score: [80 89 78 50 66 95 45 49 70]\n",
      "Loaded Score: [80 89 78 50 66 95 45 49 70]\n"
     ]
    }
   ],
   "source": [
    "scores = np.array([80,89,78,50,66,95,45,49,70])\n",
    "np.save('student_score.npy',scores)\n",
    "load_file = np.load('student_score.npy')\n",
    "print(\"Original Score:\",scores)\n",
    "print(\"Loaded Score:\",load_file)"
   ]
  },
  {
   "cell_type": "code",
   "execution_count": null,
   "id": "07ab2038-a207-41ed-bb3c-20dac0b72e6c",
   "metadata": {},
   "outputs": [],
   "source": []
  }
 ],
 "metadata": {
  "kernelspec": {
   "display_name": "Python 3 (ipykernel)",
   "language": "python",
   "name": "python3"
  },
  "language_info": {
   "codemirror_mode": {
    "name": "ipython",
    "version": 3
   },
   "file_extension": ".py",
   "mimetype": "text/x-python",
   "name": "python",
   "nbconvert_exporter": "python",
   "pygments_lexer": "ipython3",
   "version": "3.11.3"
  }
 },
 "nbformat": 4,
 "nbformat_minor": 5
}
