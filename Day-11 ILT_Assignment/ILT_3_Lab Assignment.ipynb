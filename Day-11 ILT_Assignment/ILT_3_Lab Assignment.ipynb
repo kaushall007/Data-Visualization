{
 "cells": [
  {
   "cell_type": "code",
   "execution_count": 1,
   "id": "56666be2-5fa1-4742-9a5c-c2e4d80693c0",
   "metadata": {},
   "outputs": [
    {
     "name": "stdout",
     "output_type": "stream",
     "text": [
      "6.0\n"
     ]
    }
   ],
   "source": [
    "#Declare a div() function with two parameters. Then call the function and pass two numbers and display their division.\n",
    "\n",
    "def div(a, b):\n",
    "    return a / b\n",
    "\n",
    "#print  Result\n",
    "result = div(12, 2)\n",
    "print(result)\n"
   ]
  },
  {
   "cell_type": "code",
   "execution_count": 2,
   "id": "bebdeed1-23dd-42f3-8f0a-1ce444008922",
   "metadata": {},
   "outputs": [
    {
     "name": "stdout",
     "output_type": "stream",
     "text": [
      "81\n"
     ]
    }
   ],
   "source": [
    "#Declare a square() function with one parameter.Then call the function and pass one number and display the square of that number \n",
    "\n",
    "def square(num):\n",
    "    return num*num\n",
    "result = square(9)\n",
    "print(result)"
   ]
  },
  {
   "cell_type": "code",
   "execution_count": 5,
   "id": "6b654d15-b555-4d24-afc2-17885ef8c3c2",
   "metadata": {},
   "outputs": [
    {
     "name": "stdout",
     "output_type": "stream",
     "text": [
      "Random numbers: [7, 30, 13, 96, 32]\n",
      "Maximum: 96\n",
      "Minimum: 7\n"
     ]
    }
   ],
   "source": [
    "# Using max() and min() functions display the maximum and minimum of 5 random numbers.\n",
    "\n",
    "import random\n",
    "\n",
    "# Generate 5 random numbers\n",
    "random_numbers = [random.randint(1, 100) for x in range(5)]\n",
    "\n",
    "# Find the maximum and minimum\n",
    "maximum_number = max(random_numbers)\n",
    "minimum_number = min(random_numbers)\n",
    "\n",
    "print(f\"Random numbers: {random_numbers}\")\n",
    "print(f\"Maximum: {maximum_number}\")\n",
    "print(f\"Minimum: {minimum_number}\")\n"
   ]
  },
  {
   "cell_type": "code",
   "execution_count": 8,
   "id": "af02aa27-002f-4578-87f4-a64b94291c11",
   "metadata": {},
   "outputs": [
    {
     "name": "stdin",
     "output_type": "stream",
     "text": [
      "Enter your name: KAUSHAL SINGH\n"
     ]
    },
    {
     "name": "stdout",
     "output_type": "stream",
     "text": [
      "-------------------------------------------------------\n",
      "kaushal singh\n"
     ]
    }
   ],
   "source": [
    "#Accept a name from the user and display that in lower case using lower() function\n",
    "name = input(\"Enter your name:\")\n",
    "lower_case = name.lower()\n",
    "print(\"-------------------------------------------------------\")\n",
    "print(lower_case)"
   ]
  },
  {
   "cell_type": "code",
   "execution_count": 9,
   "id": "3d15f110-ee57-4dc6-9021-70cabbf72de8",
   "metadata": {},
   "outputs": [
    {
     "name": "stdout",
     "output_type": "stream",
     "text": [
      "'to': 2\n",
      "'change': 2\n",
      "'the': 3\n",
      "'overall': 1\n",
      "'look': 2\n",
      "'of': 1\n",
      "'your': 1\n",
      "'document.': 1\n",
      "'available': 1\n",
      "'in': 1\n",
      "'gallery': 1\n"
     ]
    }
   ],
   "source": [
    "#Write a Python program to count the occurrences of each word in a given sentence\n",
    "\n",
    "\n",
    "# Given string\n",
    "string = \"To change the overall look of your document. To change the look available in the gallery\"\n",
    "\n",
    "# Convert the string to lowercase and split it into words\n",
    "words = string.lower().split()\n",
    "\n",
    "# Initialize an empty dictionary to store word counts\n",
    "word_counts = {}\n",
    "\n",
    "# Count the occurrences of each word\n",
    "for word in words:\n",
    "    if word in word_counts:\n",
    "        word_counts[word] += 1\n",
    "    else:\n",
    "        word_counts[word] = 1\n",
    "\n",
    "# Print the word counts\n",
    "for word, count in word_counts.items():\n",
    "    print(f\"'{word}': {count}\")\n"
   ]
  },
  {
   "cell_type": "code",
   "execution_count": 10,
   "id": "9ed20c59-344f-4aff-b990-0ece3cee03e7",
   "metadata": {},
   "outputs": [
    {
     "name": "stdout",
     "output_type": "stream",
     "text": [
      " Best  Deeptech  Python  Training \n"
     ]
    }
   ],
   "source": [
    "#Write a Python program to remove a newline in Python\n",
    "\n",
    "\n",
    "# Given string\n",
    "string = \"\\nBest \\nDeeptech \\nPython \\nTraining\\n\"\n",
    "\n",
    "# Remove newlines\n",
    "string_without_newlines = string.replace('\\n', ' ')\n",
    "\n",
    "# Print the result\n",
    "print(string_without_newlines)\n"
   ]
  },
  {
   "cell_type": "code",
   "execution_count": 12,
   "id": "57d650a0-8b0b-418c-87ff-adf4071082a5",
   "metadata": {},
   "outputs": [
    {
     "name": "stdout",
     "output_type": "stream",
     "text": [
      "Training Python Deeptech\n"
     ]
    }
   ],
   "source": [
    "#Write a Python program to reverse words in a string\n",
    "\n",
    "# Given string\n",
    "string = \"Deeptech Python Training\"\n",
    "\n",
    "# Split the string into words\n",
    "words = string.split()\n",
    "\n",
    "# Reverse the list of words\n",
    "reversed_words = words[::-1]\n",
    "\n",
    "# Join the reversed words back into a string\n",
    "reversed_string = ' '.join(reversed_words)\n",
    "\n",
    "# Print the result\n",
    "print(reversed_string)\n"
   ]
  },
  {
   "cell_type": "code",
   "execution_count": 19,
   "id": "0de78e6d-577e-466e-b808-cf3c7034c284",
   "metadata": {},
   "outputs": [
    {
     "name": "stdout",
     "output_type": "stream",
     "text": [
      "Number of vowels in the given string: 8\n"
     ]
    }
   ],
   "source": [
    "# Write a Python program to count and display the vowels of a given text\n",
    "Phrase = \"Welcome to Python Training\"\n",
    "Phrase = Phrase.lower()\n",
    "count = 0\n",
    "vowels = [\"a\", \"e\", \"i\", \"o\", \"u\"]\n",
    "\n",
    "\n",
    "for letter in Phrase:\n",
    "    if letter in vowels:\n",
    "        count += 1\n",
    "\n",
    "print(f\"Number of vowels in the given string: {count}\")\n"
   ]
  },
  {
   "cell_type": "code",
   "execution_count": 20,
   "id": "140a3dfc-8f69-4bb7-b7b5-5fa33143f3a1",
   "metadata": {},
   "outputs": [
    {
     "name": "stdout",
     "output_type": "stream",
     "text": [
      "Chars = 8 Digits = 3 Symbol = 4\n"
     ]
    }
   ],
   "source": [
    "# Write a Python program to Count all letters, digits, and special symbols from the given string\n",
    "\n",
    "input = \"P@#yn26at^&i5ve\"\n",
    "\n",
    "# Initialize counters\n",
    "letter_count = 0\n",
    "digit_count = 0\n",
    "symbol_count = 0\n",
    "\n",
    "for char in input:\n",
    "    if char.isalpha():  # Check if character is a letter\n",
    "        letter_count += 1\n",
    "    elif char.isdigit():  # Check if character is a digit\n",
    "        digit_count += 1\n",
    "    else:\n",
    "        symbol_count += 1  # Assume any other character is a symbol\n",
    "\n",
    "print(f\"Chars = {letter_count} Digits = {digit_count} Symbol = {symbol_count}\")\n"
   ]
  },
  {
   "cell_type": "code",
   "execution_count": 28,
   "id": "471937a8-78b6-4daa-8abf-55699473d845",
   "metadata": {},
   "outputs": [
    {
     "name": "stdout",
     "output_type": "stream",
     "text": [
      "String and Function\n"
     ]
    }
   ],
   "source": [
    "#Write a Python program to remove duplicate word of a given string\n",
    "input = \"String and String Function\"\n",
    "words = input_string.split()\n",
    "seen = set()\n",
    "result = []\n",
    "\n",
    "for word in words:\n",
    "    if word not in seen:\n",
    "        seen.add(word)\n",
    "        result.append(word)\n",
    "\n",
    "output_string = ' '.join(result)\n",
    "print(output_string)\n"
   ]
  },
  {
   "cell_type": "code",
   "execution_count": 30,
   "id": "495ad45a-5fa2-4571-8d79-7c6caa1fb4af",
   "metadata": {},
   "outputs": [
    {
     "name": "stdout",
     "output_type": "stream",
     "text": [
      "UpperCase : 5\n",
      "LowerCase : 18\n",
      "NumberCase : 5\n",
      "SpecialCase : 11\n"
     ]
    }
   ],
   "source": [
    "# Write a Python program to count Uppercase, Lowercase, special character and numeric values in a given string\n",
    "\n",
    "input = \"Hell0 W0rld ! 123 * # welcome to pYtHoN\"\n",
    "\n",
    "# Initialize counters\n",
    "uppercase_count = 0\n",
    "lowercase_count = 0\n",
    "number_count = 0\n",
    "special_count = 0\n",
    "\n",
    "# Iterate over each character in the input string\n",
    "for char in input:\n",
    "    if char.isupper():\n",
    "        uppercase_count += 1\n",
    "    elif char.islower():\n",
    "        lowercase_count += 1\n",
    "    elif char.isdigit():\n",
    "        number_count += 1\n",
    "    else:\n",
    "        special_count += 1\n",
    "\n",
    "# Print the results\n",
    "print(f\"UpperCase : {uppercase_count}\")\n",
    "print(f\"LowerCase : {lowercase_count}\")\n",
    "print(f\"NumberCase : {number_count}\")\n",
    "print(f\"SpecialCase : {special_count}\")\n"
   ]
  },
  {
   "cell_type": "code",
   "execution_count": 32,
   "id": "005567c7-1a2e-41d1-b420-236ec740bac6",
   "metadata": {},
   "outputs": [
    {
     "name": "stdout",
     "output_type": "stream",
     "text": [
      "Total vowels are: 8\n"
     ]
    }
   ],
   "source": [
    "# Write a Python Count vowels in a string\n",
    "input= \"Welcome to Python Assignment\"\n",
    "input = input.lower()\n",
    "count = 0\n",
    "vowels = [\"a\", \"e\", \"i\", \"o\", \"u\"]\n",
    "\n",
    "\n",
    "for letter in input:\n",
    "    if letter in vowels:\n",
    "        count += 1\n",
    "\n",
    "print(f\"Total vowels are: {count}\")"
   ]
  }
 ],
 "metadata": {
  "kernelspec": {
   "display_name": "Python 3 (ipykernel)",
   "language": "python",
   "name": "python3"
  },
  "language_info": {
   "codemirror_mode": {
    "name": "ipython",
    "version": 3
   },
   "file_extension": ".py",
   "mimetype": "text/x-python",
   "name": "python",
   "nbconvert_exporter": "python",
   "pygments_lexer": "ipython3",
   "version": "3.11.3"
  }
 },
 "nbformat": 4,
 "nbformat_minor": 5
}
